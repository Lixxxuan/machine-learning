{
  "cells": [
    {
      "cell_type": "markdown",
      "metadata": {
        "id": "5CO3mWQlRlj5"
      },
      "source": [
        "# ***Multiple Regression Analysis***\n",
        "\n",
        "---\n",
        "# Red Wine Quality Prediction by Zee"
      ]
    },
    {
      "cell_type": "markdown",
      "metadata": {
        "id": "jj9QcLaXM6KA"
      },
      "source": [
        "# **Import Library**"
      ]
    },
    {
      "cell_type": "code",
      "execution_count": 1,
      "metadata": {
        "id": "HwZbDWnCvR_y"
      },
      "outputs": [
        {
          "name": "stderr",
          "output_type": "stream",
          "text": [
            "d:\\anaconda\\envs\\en\\lib\\site-packages\\scipy\\__init__.py:138: UserWarning: A NumPy version >=1.16.5 and <1.23.0 is required for this version of SciPy (detected version 1.26.4)\n",
            "  warnings.warn(f\"A NumPy version >={np_minversion} and <{np_maxversion} is required for this version of \"\n"
          ]
        }
      ],
      "source": [
        "import matplotlib.pyplot as plt\n",
        "import numpy as np\n",
        "import pandas as pd\n",
        "import seaborn as sns\n",
        "import sklearn as sk\n",
        "import statsmodels.api as sm\n",
        "from sklearn.linear_model import LinearRegression\n",
        "from sklearn.metrics import mean_squared_error\n",
        "from sklearn.model_selection import train_test_split"
      ]
    },
    {
      "cell_type": "markdown",
      "metadata": {
        "id": "EzPcm2Q5nXRb"
      },
      "source": [
        "# **Read Dataset**"
      ]
    },
    {
      "cell_type": "code",
      "execution_count": 5,
      "metadata": {
        "colab": {
          "base_uri": "https://localhost:8080/",
          "height": 81
        },
        "id": "0ifUUIF4C0ed",
        "outputId": "9669812f-a9c3-4450-dd7b-76d98114ca50"
      },
      "outputs": [
        {
          "data": {
            "text/html": [
              "<div>\n",
              "<style scoped>\n",
              "    .dataframe tbody tr th:only-of-type {\n",
              "        vertical-align: middle;\n",
              "    }\n",
              "\n",
              "    .dataframe tbody tr th {\n",
              "        vertical-align: top;\n",
              "    }\n",
              "\n",
              "    .dataframe thead th {\n",
              "        text-align: right;\n",
              "    }\n",
              "</style>\n",
              "<table border=\"1\" class=\"dataframe\">\n",
              "  <thead>\n",
              "    <tr style=\"text-align: right;\">\n",
              "      <th></th>\n",
              "      <th>fixed acidity</th>\n",
              "      <th>volatile acidity</th>\n",
              "      <th>citric acid</th>\n",
              "      <th>residual sugar</th>\n",
              "      <th>chlorides</th>\n",
              "      <th>free sulfur dioxide</th>\n",
              "      <th>total sulfur dioxide</th>\n",
              "      <th>density</th>\n",
              "      <th>pH</th>\n",
              "      <th>sulphates</th>\n",
              "      <th>alcohol</th>\n",
              "      <th>quality</th>\n",
              "    </tr>\n",
              "  </thead>\n",
              "  <tbody>\n",
              "    <tr>\n",
              "      <th>204</th>\n",
              "      <td>5.8</td>\n",
              "      <td>0.28</td>\n",
              "      <td>0.35</td>\n",
              "      <td>2.3</td>\n",
              "      <td>0.053</td>\n",
              "      <td>36.0</td>\n",
              "      <td>114.0</td>\n",
              "      <td>0.9924</td>\n",
              "      <td>3.28</td>\n",
              "      <td>0.5</td>\n",
              "      <td>10.2</td>\n",
              "      <td>4</td>\n",
              "    </tr>\n",
              "  </tbody>\n",
              "</table>\n",
              "</div>"
            ],
            "text/plain": [
              "     fixed acidity  volatile acidity  citric acid  residual sugar  chlorides  \\\n",
              "204            5.8              0.28         0.35             2.3      0.053   \n",
              "\n",
              "     free sulfur dioxide  total sulfur dioxide  density    pH  sulphates  \\\n",
              "204                 36.0                 114.0   0.9924  3.28        0.5   \n",
              "\n",
              "     alcohol  quality  \n",
              "204     10.2        4  "
            ]
          },
          "execution_count": 5,
          "metadata": {},
          "output_type": "execute_result"
        }
      ],
      "source": [
        "#url = 'https://raw.githubusercontent.com/Lixxxuan/winequality/main/winequality-red.csv'\n",
        "url = 'https://raw.githubusercontent.com/Lixxxuan/winequality/main/winequality-white.csv'\n",
        "df = pd.read_csv(url)\n",
        "# Random sample\n",
        "df.sample()"
      ]
    },
    {
      "cell_type": "markdown",
      "metadata": {
        "id": "X2gCkMsipHxT"
      },
      "source": [
        "# **Rename Columns**"
      ]
    },
    {
      "cell_type": "code",
      "execution_count": null,
      "metadata": {
        "colab": {
          "base_uri": "https://localhost:8080/",
          "height": 424
        },
        "id": "yzNnozPMpMmh",
        "outputId": "cf4816a8-00ad-4506-f10c-5c49212d8509"
      },
      "outputs": [],
      "source": [
        "df = df.rename(columns={'fixed acidity': 'Fixed Acidity', 'volatile acidity': 'Volatile Acidity', 'citric acid': 'Citric Acid',\n",
        "                        'residual sugar': 'Residual Sugar', 'chlorides': 'Chlorides', 'free sulfur dioxide': 'Free Sulfur Dioxide', 'total sulfur dioxide':'Total Sulfur Dioxide',\n",
        "                        'density': 'Density', 'pH': 'pH', 'sulphates': 'Sulphates', 'alcohol': 'Alcohol', 'quality': 'Quality'})\n",
        "df"
      ]
    },
    {
      "cell_type": "markdown",
      "metadata": {
        "id": "lQMTxJ12siBn"
      },
      "source": [
        "# **Checking Null Value of Dataset**"
      ]
    },
    {
      "cell_type": "code",
      "execution_count": null,
      "metadata": {
        "colab": {
          "base_uri": "https://localhost:8080/"
        },
        "id": "Z4ucDaB3speQ",
        "outputId": "6d37e6fd-b8db-4d7e-9094-e0a7b000ce48"
      },
      "outputs": [],
      "source": [
        "df.info()\n",
        "df.isnull().any()"
      ]
    },
    {
      "cell_type": "markdown",
      "metadata": {
        "id": "hBrbUan1P5UB"
      },
      "source": [
        "# **Exploratory Data Analysis (EDA)**"
      ]
    },
    {
      "cell_type": "code",
      "execution_count": null,
      "metadata": {
        "colab": {
          "base_uri": "https://localhost:8080/",
          "height": 300
        },
        "id": "-HRnt8SB0Gln",
        "outputId": "e74df8ed-f410-45b8-ca45-40dc4bfcff96"
      },
      "outputs": [],
      "source": [
        "# Univariate Analysis\n",
        "df.describe()"
      ]
    },
    {
      "cell_type": "code",
      "execution_count": null,
      "metadata": {
        "colab": {
          "base_uri": "https://localhost:8080/",
          "height": 880
        },
        "id": "i-4zk5ANLqBC",
        "outputId": "3897c72d-688b-43d3-e413-b77e72233de1"
      },
      "outputs": [],
      "source": [
        "plt.figure(figsize=(30, 15))\n",
        "sns.boxplot(data=df)"
      ]
    },
    {
      "cell_type": "code",
      "execution_count": null,
      "metadata": {
        "colab": {
          "base_uri": "https://localhost:8080/",
          "height": 880
        },
        "id": "gDcsqNTiveg4",
        "outputId": "7d9c858f-440b-4d37-85ac-f990ba69b272"
      },
      "outputs": [],
      "source": [
        "plt.figure(figsize=(30, 15))\n",
        "zoom = df[['Fixed Acidity', 'Volatile Acidity', 'Citric Acid', 'Residual Sugar', 'Chlorides', 'Density', 'pH', 'Sulphates', 'Alcohol', 'Quality']]\n",
        "sns.boxplot(data=zoom)"
      ]
    },
    {
      "cell_type": "code",
      "execution_count": null,
      "metadata": {
        "colab": {
          "base_uri": "https://localhost:8080/",
          "height": 1000
        },
        "id": "Clpooyvur0I3",
        "outputId": "2b3d197b-9f0b-4388-d300-b673d6a804ca"
      },
      "outputs": [],
      "source": [
        "# Multivariate Analysis\n",
        "plt.figure(figsize=(30, 15))\n",
        "sns.pairplot(data=df, hue='Quality')\n",
        "plt.show()"
      ]
    },
    {
      "cell_type": "markdown",
      "metadata": {
        "id": "Bzg6anrkVPMq"
      },
      "source": [
        "# **Heatmap**"
      ]
    },
    {
      "cell_type": "code",
      "execution_count": null,
      "metadata": {
        "colab": {
          "base_uri": "https://localhost:8080/",
          "height": 954
        },
        "id": "j2m0YdGHXHfm",
        "outputId": "851db0ba-7e56-4839-d9d1-3af4502ffce4"
      },
      "outputs": [],
      "source": [
        "# Heatmap\n",
        "plt.figure(figsize=(20, 15))\n",
        "sns.heatmap(df.corr(), vmin=-1, vmax=1, cmap=\"coolwarm\", annot=True)\n",
        "plt.show()"
      ]
    },
    {
      "cell_type": "code",
      "execution_count": null,
      "metadata": {
        "colab": {
          "base_uri": "https://localhost:8080/",
          "height": 950
        },
        "id": "VLZg941P1YKo",
        "outputId": "2fc23655-cfae-4c61-ab5f-580f59771174"
      },
      "outputs": [],
      "source": [
        "# Heatmap other display\n",
        "# Creates an array of zeros\n",
        "zero = np.zeros_like(df.corr())\n",
        "triangle_indices = np.triu_indices_from(zero)\n",
        "zero[triangle_indices] = True\n",
        "# Check the relationship between all the features with the target (Quality)\n",
        "plt.figure(figsize=(20,15))\n",
        "sns.heatmap(df.corr(), mask=zero, cmap=\"coolwarm\", annot=True, annot_kws={'size': 14})\n",
        "sns.set_style('whitegrid')\n",
        "plt.xticks(fontsize=10)\n",
        "plt.yticks(fontsize=10)\n",
        "plt.show()\n",
        "# In order of highest correlation (to Quality): Alcohol, Volatile Acidity, Sulphates, Citric Acid, Total Sulfur Dioxide, Density, Chlorides, Fixed Acidity, pH, Free Sulfur Dioxide, Residual Sugar"
      ]
    },
    {
      "cell_type": "markdown",
      "metadata": {
        "id": "iM-9VPnNwGpC"
      },
      "source": [
        "# **Independent Variables & Dependent Variables**"
      ]
    },
    {
      "cell_type": "code",
      "execution_count": null,
      "metadata": {
        "id": "A49lg7BqwNNa"
      },
      "outputs": [],
      "source": [
        "# Use this code\n",
        "# x = df[['Fixed Acidity', 'Volatile Acidity', 'Citric Acid', 'Residual Sugar', 'Chlorides', 'Free Sulfur Dioxide', 'Total Sulfur Dioxide', 'Density', 'pH', 'Sulphates', 'Alcohol']]\n",
        "# y = df[['Quality']]\n",
        "# Or this\n",
        "x = df.iloc[:, :-1].values\n",
        "y = df.iloc[:, -1].values\n",
        "# Splitting dataset into training set & test set\n",
        "x_train, x_test, y_train, y_test = train_test_split(x, y, test_size = 0.2, random_state = 0)"
      ]
    },
    {
      "cell_type": "code",
      "execution_count": null,
      "metadata": {
        "colab": {
          "base_uri": "https://localhost:8080/"
        },
        "id": "C0X5GtZBg0OR",
        "outputId": "ec27a95c-1abf-4eff-b0c5-af38709b0a68"
      },
      "outputs": [],
      "source": [
        "# Fitting Multiple Linear Regression to the training set\n",
        "regr = LinearRegression()\n",
        "regr.fit(x_train, y_train)"
      ]
    },
    {
      "cell_type": "markdown",
      "metadata": {
        "id": "bbqQ9UB9gRZB"
      },
      "source": [
        "# **Prediction**"
      ]
    },
    {
      "cell_type": "code",
      "execution_count": null,
      "metadata": {
        "colab": {
          "base_uri": "https://localhost:8080/"
        },
        "id": "DGL8AQskgVxQ",
        "outputId": "bd66ef30-b1e6-468a-aef5-b4260e40d228"
      },
      "outputs": [],
      "source": [
        "# Test prediction (From Fixed Acidity, Volatile Acidity, Citric Acid, Residual Sugar, Chlorides, Free Sulfur Dioxide, Total Sulfur Dioxide, Density, pH, Sulphates, Alcohol)\n",
        "print(regr.predict([[15, 0.01, 0, 5, 0.001, 30, 50, 0.95, 3, 0.9, 15]]))\n",
        "# Quality: 9.82988592 (9 out of 10)"
      ]
    },
    {
      "cell_type": "markdown",
      "metadata": {
        "id": "8YCNW_mKhprB"
      },
      "source": [
        "# **Backward Elimination (Use this code if it's necessary)**"
      ]
    },
    {
      "cell_type": "code",
      "execution_count": null,
      "metadata": {
        "colab": {
          "base_uri": "https://localhost:8080/",
          "height": 679
        },
        "id": "ygJYwpJk0ocW",
        "outputId": "d0ebe49d-5063-4467-c095-46116636d398"
      },
      "outputs": [],
      "source": [
        "# Building the optimal model using Backward Elimination\n",
        "x = np.append(arr = np.ones((1599, 1)).astype(int), values = x, axis = 1)\n",
        "# Choose a Significance level usually 0.05, if p > 0.05\n",
        "# For the highest values parameter, remove that value\n",
        "x_opt = x[:, [0, 1, 2, 3, 4, 5, 6, 7, 8, 9, 10]]\n",
        "ols = sm.OLS(endog = y, exog = x_opt).fit()\n",
        "ols.summary()"
      ]
    },
    {
      "cell_type": "code",
      "execution_count": null,
      "metadata": {
        "colab": {
          "base_uri": "https://localhost:8080/",
          "height": 657
        },
        "id": "EupIokMUGNwc",
        "outputId": "3ed8a25a-751d-4a5d-ff74-0576b077af76"
      },
      "outputs": [],
      "source": [
        "# Deleted x3 (0.755) [Residual Sugar]\n",
        "x_opt = x[:, [0, 1, 2, 4, 5, 6, 7, 8, 9, 10]]\n",
        "ols = sm.OLS(endog = y, exog = x_opt).fit()\n",
        "ols.summary()"
      ]
    },
    {
      "cell_type": "code",
      "execution_count": null,
      "metadata": {
        "colab": {
          "base_uri": "https://localhost:8080/",
          "height": 636
        },
        "id": "3hKnpl5_Eb40",
        "outputId": "04e115fe-11cf-4990-c001-a502f80ef965"
      },
      "outputs": [],
      "source": [
        "# Deleted x5 (0.125) [Total Sulfur Dioxide]\n",
        "x_opt = x[:, [0, 1, 2, 4, 5, 7, 8, 9, 10]]\n",
        "ols = sm.OLS(endog = y, exog = x_opt).fit()\n",
        "ols.summary()\n",
        "# This means that Alcohol, Volatile Acidity, Sulphates, Citric Acid, Density, Chlorides, Fixed Acidity, pH, & Free Sulfur Dioxide having the highest impact on the quality of Red Wine"
      ]
    },
    {
      "cell_type": "markdown",
      "metadata": {
        "id": "lJwoolAvhzUe"
      },
      "source": [
        "# **Evaluation**"
      ]
    },
    {
      "cell_type": "code",
      "execution_count": null,
      "metadata": {
        "colab": {
          "base_uri": "https://localhost:8080/"
        },
        "id": "F9TpGfJiPe_W",
        "outputId": "b6421d9a-efe1-400e-b669-02abc6f7aee0"
      },
      "outputs": [],
      "source": [
        "# Ordinary Least Square (OLS) Principle\n",
        "x = sm.add_constant(x_train)\n",
        "model = sm.OLS(y_train, x).fit()\n",
        "print(model.summary())"
      ]
    },
    {
      "cell_type": "code",
      "execution_count": null,
      "metadata": {
        "colab": {
          "base_uri": "https://localhost:8080/"
        },
        "id": "Gkt5ZjtxgLcF",
        "outputId": "22daacdf-5ee0-4319-94c6-24e666e561e2"
      },
      "outputs": [],
      "source": [
        "# Evaluate our model using MSE criterion\n",
        "y_pred = regr.predict(x_test)\n",
        "print(\"Mean Squared Error (MSE): \", mean_squared_error(y_test, y_pred))"
      ]
    },
    {
      "cell_type": "code",
      "execution_count": null,
      "metadata": {
        "colab": {
          "base_uri": "https://localhost:8080/"
        },
        "id": "OonFmLd9ptCB",
        "outputId": "a2958c02-3269-464a-c552-12affda10f99"
      },
      "outputs": [],
      "source": [
        "# Check quality value from dataset that is listed\n",
        "print(df['Quality'].unique())"
      ]
    },
    {
      "cell_type": "code",
      "execution_count": null,
      "metadata": {
        "id": "yhccZ0GtffD1"
      },
      "outputs": [],
      "source": [
        "# MAPE\n",
        "def mape(actual, pred):\n",
        "  actual, pred = np.array(actual), np.array(pred)\n",
        "  return np.mean(np.abs((actual - pred) / actual)) * 100"
      ]
    },
    {
      "cell_type": "code",
      "execution_count": null,
      "metadata": {
        "colab": {
          "base_uri": "https://localhost:8080/"
        },
        "id": "K_3fS4DQfqFR",
        "outputId": "0d475ce2-8d7c-4697-c2aa-d9f541ba2ec2"
      },
      "outputs": [],
      "source": [
        "mape(y_test, y_pred)\n",
        "# Error of our model is approximately 8-9% (Excellent)\n",
        "# MAPE result Notes : \n",
        "# 1. Below 10% = Excellent\n",
        "# 2. 10% - 20% = Good\n",
        "# 3. 21% - 50% = Reasonable\n",
        "# 4. Above 50% = Inaccurate"
      ]
    }
  ],
  "metadata": {
    "colab": {
      "collapsed_sections": [
        "jj9QcLaXM6KA",
        "EzPcm2Q5nXRb",
        "X2gCkMsipHxT",
        "lQMTxJ12siBn",
        "hBrbUan1P5UB",
        "Bzg6anrkVPMq",
        "iM-9VPnNwGpC",
        "bbqQ9UB9gRZB",
        "8YCNW_mKhprB",
        "lJwoolAvhzUe"
      ],
      "name": "Regression Analysis for Red Wine Quality.ipynb",
      "provenance": []
    },
    "kernelspec": {
      "display_name": "Python 3",
      "name": "python3"
    },
    "language_info": {
      "codemirror_mode": {
        "name": "ipython",
        "version": 3
      },
      "file_extension": ".py",
      "mimetype": "text/x-python",
      "name": "python",
      "nbconvert_exporter": "python",
      "pygments_lexer": "ipython3",
      "version": "3.9.6"
    }
  },
  "nbformat": 4,
  "nbformat_minor": 0
}
